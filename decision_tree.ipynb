{
 "nbformat": 4,
 "nbformat_minor": 0,
 "metadata": {
  "colab": {
   "name": "first_model.ipynb",
   "provenance": [
    {
     "file_id": "1OCdVtJemwE9Q657uP8uppjvXKWRaiKan",
     "timestamp": 1628307629767
    }
   ],
   "collapsed_sections": [],
   "authorship_tag": "ABX9TyOi4ecUHv+DZupy2FL0IyMW"
  },
  "kernelspec": {
   "name": "python3",
   "display_name": "Python 3"
  },
  "language_info": {
   "name": "python"
  }
 },
 "cells": [
  {
   "cell_type": "code",
   "metadata": {
    "id": "5BzuMuHdZPrm"
   },
   "source": [
    "import pandas as pd\n",
    "import sklearn.tree as tree"
   ],
   "execution_count": null,
   "outputs": []
  },
  {
   "cell_type": "code",
   "metadata": {
    "id": "hqvTeoHpkFWi"
   },
   "source": [
    "data = pd.DataFrame({'X_1': [1, 1, 1, 0, 0, 0, 0, 1], 'X_2': [0, 0, 0, 1, 0, 0, 0, 1], 'Y': [1, 1, 1, 1, 0, 0, 0, 0]})\n",
    "\n",
    "X = data[['X_1', 'X_2']]\n",
    "y = data.Y  # предсказываем"
   ],
   "execution_count": null,
   "outputs": []
  },
  {
   "cell_type": "code",
   "metadata": {
    "colab": {
     "base_uri": "https://localhost:8080/",
     "height": 367
    },
    "id": "OVOrh2Zr1jYJ",
    "executionInfo": {
     "status": "ok",
     "timestamp": 1628244879491,
     "user_tz": -420,
     "elapsed": 1259,
     "user": {
      "displayName": "Seraphim Ryaboshapko",
      "photoUrl": "https://lh3.googleusercontent.com/a-/AOh14GhzZE8u7bM0T1beoK8qGerlUR4O5MY2dyp5JLq_Wg=s64",
      "userId": "13439101467613822091"
     }
    },
    "outputId": "ee7fc511-bad5-4ea3-b466-be7b36abf635"
   },
   "source": [
    "clf = tree.DecisionTreeClassifier(criterion='entropy')  # модель\n",
    "\n",
    "clf.fit(X, y)  # обучение\n",
    "tree.plot_tree(clf)  # график"
   ],
   "execution_count": null,
   "outputs": [
    {
     "output_type": "execute_result",
     "data": {
      "text/plain": [
       "[Text(167.4, 181.2, 'X[0] <= 0.5\\nentropy = 1.0\\nsamples = 8\\nvalue = [4, 4]'),\n",
       " Text(83.7, 108.72, 'X[1] <= 0.5\\nentropy = 0.811\\nsamples = 4\\nvalue = [3, 1]'),\n",
       " Text(41.85, 36.23999999999998, 'entropy = 0.0\\nsamples = 3\\nvalue = [3, 0]'),\n",
       " Text(125.55000000000001, 36.23999999999998, 'entropy = 0.0\\nsamples = 1\\nvalue = [0, 1]'),\n",
       " Text(251.10000000000002, 108.72, 'X[1] <= 0.5\\nentropy = 0.811\\nsamples = 4\\nvalue = [1, 3]'),\n",
       " Text(209.25, 36.23999999999998, 'entropy = 0.0\\nsamples = 3\\nvalue = [0, 3]'),\n",
       " Text(292.95, 36.23999999999998, 'entropy = 0.0\\nsamples = 1\\nvalue = [1, 0]')]"
      ]
     },
     "metadata": {
      "tags": []
     },
     "execution_count": 21
    },
    {
     "output_type": "display_data",
     "data": {
      "image/png": "[encoded data removed]",
      "text/plain": [
       "<Figure size 432x288 with 1 Axes>"
      ]
     },
     "metadata": {
      "tags": [],
      "needs_background": "light"
     }
    }
   ]
  }
 ]
}
